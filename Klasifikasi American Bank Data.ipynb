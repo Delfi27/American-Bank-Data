{
  "nbformat": 4,
  "nbformat_minor": 0,
  "metadata": {
    "colab": {
      "name": "DELFI WAHYU EKOWATI_1800015056_UTS_BIG_DATA",
      "provenance": [],
      "collapsed_sections": [],
      "authorship_tag": "ABX9TyPwudb0aI0j4FyYH8shO4M6",
      "include_colab_link": true
    },
    "kernelspec": {
      "name": "python3",
      "display_name": "Python 3"
    },
    "language_info": {
      "name": "python"
    }
  },
  "cells": [
    {
      "cell_type": "markdown",
      "metadata": {
        "id": "view-in-github",
        "colab_type": "text"
      },
      "source": [
        "<a href=\"https://colab.research.google.com/github/Delfi27/American-Bank-Data/blob/main/Klasifikasi%20American%20Bank%20Data.ipynb\" target=\"_parent\"><img src=\"https://colab.research.google.com/assets/colab-badge.svg\" alt=\"Open In Colab\"/></a>"
      ]
    },
    {
      "cell_type": "markdown",
      "metadata": {
        "id": "1cWWWyPPhi2M"
      },
      "source": [
        "# Import Library"
      ]
    },
    {
      "cell_type": "code",
      "metadata": {
        "id": "0woqxjwcgEnv"
      },
      "source": [
        "import pandas as pd\n",
        "import numpy as np\n",
        "import seaborn as sns\n",
        "import matplotlib.pyplot as plt"
      ],
      "execution_count": null,
      "outputs": []
    },
    {
      "cell_type": "markdown",
      "metadata": {
        "id": "RkIq0nbihnY5"
      },
      "source": [
        "# Import Dataset"
      ]
    },
    {
      "cell_type": "code",
      "metadata": {
        "colab": {
          "base_uri": "https://localhost:8080/",
          "height": 206
        },
        "id": "ycv9SdQShg_i",
        "outputId": "94b704aa-822b-434d-d9ce-172382e54beb"
      },
      "source": [
        "df = pd.read_csv('https://raw.githubusercontent.com/Delfi27/American-Bank-Data/main/Bank_of_America_data.csv')\n",
        "df.head()"
      ],
      "execution_count": null,
      "outputs": [
        {
          "output_type": "execute_result",
          "data": {
            "text/html": [
              "<div>\n",
              "<style scoped>\n",
              "    .dataframe tbody tr th:only-of-type {\n",
              "        vertical-align: middle;\n",
              "    }\n",
              "\n",
              "    .dataframe tbody tr th {\n",
              "        vertical-align: top;\n",
              "    }\n",
              "\n",
              "    .dataframe thead th {\n",
              "        text-align: right;\n",
              "    }\n",
              "</style>\n",
              "<table border=\"1\" class=\"dataframe\">\n",
              "  <thead>\n",
              "    <tr style=\"text-align: right;\">\n",
              "      <th></th>\n",
              "      <th>BAD</th>\n",
              "      <th>LOAN</th>\n",
              "      <th>MORTDUE</th>\n",
              "      <th>VALUE</th>\n",
              "      <th>REASON</th>\n",
              "      <th>JOB</th>\n",
              "      <th>YOJ</th>\n",
              "      <th>DEROG</th>\n",
              "      <th>DELINQ</th>\n",
              "      <th>CLAGE</th>\n",
              "      <th>NINQ</th>\n",
              "      <th>CLNO</th>\n",
              "      <th>DEBTINC</th>\n",
              "    </tr>\n",
              "  </thead>\n",
              "  <tbody>\n",
              "    <tr>\n",
              "      <th>0</th>\n",
              "      <td>1</td>\n",
              "      <td>1100</td>\n",
              "      <td>25860.0</td>\n",
              "      <td>39025.0</td>\n",
              "      <td>HomeImp</td>\n",
              "      <td>Other</td>\n",
              "      <td>10.5</td>\n",
              "      <td>0.0</td>\n",
              "      <td>0.0</td>\n",
              "      <td>94.366667</td>\n",
              "      <td>1.0</td>\n",
              "      <td>9.0</td>\n",
              "      <td>NaN</td>\n",
              "    </tr>\n",
              "    <tr>\n",
              "      <th>1</th>\n",
              "      <td>1</td>\n",
              "      <td>1300</td>\n",
              "      <td>70053.0</td>\n",
              "      <td>68400.0</td>\n",
              "      <td>HomeImp</td>\n",
              "      <td>Other</td>\n",
              "      <td>7.0</td>\n",
              "      <td>0.0</td>\n",
              "      <td>2.0</td>\n",
              "      <td>121.833333</td>\n",
              "      <td>0.0</td>\n",
              "      <td>14.0</td>\n",
              "      <td>NaN</td>\n",
              "    </tr>\n",
              "    <tr>\n",
              "      <th>2</th>\n",
              "      <td>1</td>\n",
              "      <td>1500</td>\n",
              "      <td>13500.0</td>\n",
              "      <td>16700.0</td>\n",
              "      <td>HomeImp</td>\n",
              "      <td>Other</td>\n",
              "      <td>4.0</td>\n",
              "      <td>0.0</td>\n",
              "      <td>0.0</td>\n",
              "      <td>149.466667</td>\n",
              "      <td>1.0</td>\n",
              "      <td>10.0</td>\n",
              "      <td>NaN</td>\n",
              "    </tr>\n",
              "    <tr>\n",
              "      <th>3</th>\n",
              "      <td>1</td>\n",
              "      <td>1500</td>\n",
              "      <td>NaN</td>\n",
              "      <td>NaN</td>\n",
              "      <td>NaN</td>\n",
              "      <td>NaN</td>\n",
              "      <td>NaN</td>\n",
              "      <td>NaN</td>\n",
              "      <td>NaN</td>\n",
              "      <td>NaN</td>\n",
              "      <td>NaN</td>\n",
              "      <td>NaN</td>\n",
              "      <td>NaN</td>\n",
              "    </tr>\n",
              "    <tr>\n",
              "      <th>4</th>\n",
              "      <td>0</td>\n",
              "      <td>1700</td>\n",
              "      <td>97800.0</td>\n",
              "      <td>112000.0</td>\n",
              "      <td>HomeImp</td>\n",
              "      <td>Office</td>\n",
              "      <td>3.0</td>\n",
              "      <td>0.0</td>\n",
              "      <td>0.0</td>\n",
              "      <td>93.333333</td>\n",
              "      <td>0.0</td>\n",
              "      <td>14.0</td>\n",
              "      <td>NaN</td>\n",
              "    </tr>\n",
              "  </tbody>\n",
              "</table>\n",
              "</div>"
            ],
            "text/plain": [
              "   BAD  LOAN  MORTDUE     VALUE  ...       CLAGE NINQ  CLNO  DEBTINC\n",
              "0    1  1100  25860.0   39025.0  ...   94.366667  1.0   9.0      NaN\n",
              "1    1  1300  70053.0   68400.0  ...  121.833333  0.0  14.0      NaN\n",
              "2    1  1500  13500.0   16700.0  ...  149.466667  1.0  10.0      NaN\n",
              "3    1  1500      NaN       NaN  ...         NaN  NaN   NaN      NaN\n",
              "4    0  1700  97800.0  112000.0  ...   93.333333  0.0  14.0      NaN\n",
              "\n",
              "[5 rows x 13 columns]"
            ]
          },
          "metadata": {},
          "execution_count": 237
        }
      ]
    },
    {
      "cell_type": "markdown",
      "metadata": {
        "id": "ksSqiyOYmjoh"
      },
      "source": [
        "# **1. Carilah dataset tabular untuk masalah klasifikasi pada situs kaggle.com. Dataset harus berbeda-beda untuk masing-masing mahasiswa.**"
      ]
    },
    {
      "cell_type": "markdown",
      "metadata": {
        "id": "HqdHgCd0n9op"
      },
      "source": [
        "## **A. Jumlah Dataset**"
      ]
    },
    {
      "cell_type": "code",
      "metadata": {
        "colab": {
          "base_uri": "https://localhost:8080/"
        },
        "id": "n74il6oXoEKg",
        "outputId": "6bcdfd66-b07f-46c9-8760-c918378b4ae0"
      },
      "source": [
        "df.shape"
      ],
      "execution_count": null,
      "outputs": [
        {
          "output_type": "execute_result",
          "data": {
            "text/plain": [
              "(5960, 13)"
            ]
          },
          "metadata": {},
          "execution_count": 97
        }
      ]
    },
    {
      "cell_type": "markdown",
      "metadata": {
        "id": "Y2zwAwWMoN3f"
      },
      "source": [
        "Artinya kita memiliki data dengan 13 kolom dan 5960 baris"
      ]
    },
    {
      "cell_type": "markdown",
      "metadata": {
        "id": "QYaha5oaoZ8q"
      },
      "source": [
        "## **B. Jumlah Fitur**"
      ]
    },
    {
      "cell_type": "code",
      "metadata": {
        "colab": {
          "base_uri": "https://localhost:8080/"
        },
        "id": "yZtrdoxFoewf",
        "outputId": "27c1bfac-d9ee-48cc-e9be-c1213d464a33"
      },
      "source": [
        "df.shape"
      ],
      "execution_count": null,
      "outputs": [
        {
          "output_type": "execute_result",
          "data": {
            "text/plain": [
              "(5960, 13)"
            ]
          },
          "metadata": {},
          "execution_count": 12
        }
      ]
    },
    {
      "cell_type": "markdown",
      "metadata": {
        "id": "sEiEvz_NuoyS"
      },
      "source": [
        "Kita memiliki data dengan 13 kolom"
      ]
    },
    {
      "cell_type": "markdown",
      "metadata": {
        "id": "1kJtzTTdo0ra"
      },
      "source": [
        "## **C. Keterangan Fitur**"
      ]
    },
    {
      "cell_type": "code",
      "metadata": {
        "colab": {
          "base_uri": "https://localhost:8080/"
        },
        "id": "xfGMJRel5PVh",
        "outputId": "3da62384-92de-4499-c165-1e72c2fc5410"
      },
      "source": [
        "df.columns"
      ],
      "execution_count": null,
      "outputs": [
        {
          "output_type": "execute_result",
          "data": {
            "text/plain": [
              "Index(['BAD', 'LOAN', 'MORTDUE', 'VALUE', 'REASON', 'JOB', 'YOJ', 'DEROG',\n",
              "       'DELINQ', 'CLAGE', 'NINQ', 'CLNO', 'DEBTINC'],\n",
              "      dtype='object')"
            ]
          },
          "metadata": {},
          "execution_count": 13
        }
      ]
    },
    {
      "cell_type": "markdown",
      "metadata": {
        "id": "-8bQn7bMpHTm"
      },
      "source": [
        "**Keterangan :**\n",
        "\n",
        "1. **BAD** = 0 = Pemohon wanprestasi dalam pelunasan pinjaman atau dengan PD tinggi; 1 = Pemohon melunasi pinjaman\n",
        "2. **LOAN** = Jumlah permintaan pinjaman\n",
        "3. **MORTDUE** = Jumlah yang harus dibayar pada jaminan yang ada\n",
        "4. **VALUE** = Nilai properti saat ini\n",
        "5. **REASON** = Alasan (DebtCon = konsolidasi hutang; HomeImp = perbaikan rumah)\n",
        "6. **JOB** = Kategori pekerjaan\n",
        "7. **YOJ** = Tahun di pekerjaan sekarang\n",
        "8. **DEROG** = Jumlah laporan penghinaan utama\n",
        "9. **DELINQ** = Jumlah jalur kredit yang menunggak\n",
        "10. **CLAGE** = Usia batas kredit tertua dalam beberapa bulan\n",
        "11. **NINQ** = Jumlah pertanyaan kredit baru-baru ini\n",
        "12. **CLNO** = Jumlah jalur kredit \n",
        "13. **DEBTINC** = Rasio utang terhadap pendapatan\n",
        "\n",
        "\n"
      ]
    },
    {
      "cell_type": "markdown",
      "metadata": {
        "id": "WVv4kO7Ytar2"
      },
      "source": [
        "## **D. Tipe Fitur Data**"
      ]
    },
    {
      "cell_type": "code",
      "metadata": {
        "colab": {
          "base_uri": "https://localhost:8080/"
        },
        "id": "tB2F7E7IoY9l",
        "outputId": "3c0b2f56-4891-4ecd-c238-c5b878c4f4e9"
      },
      "source": [
        "df.dtypes"
      ],
      "execution_count": null,
      "outputs": [
        {
          "output_type": "execute_result",
          "data": {
            "text/plain": [
              "BAD          int64\n",
              "LOAN         int64\n",
              "MORTDUE    float64\n",
              "VALUE      float64\n",
              "REASON      object\n",
              "JOB         object\n",
              "YOJ        float64\n",
              "DEROG      float64\n",
              "DELINQ     float64\n",
              "CLAGE      float64\n",
              "NINQ       float64\n",
              "CLNO       float64\n",
              "DEBTINC    float64\n",
              "dtype: object"
            ]
          },
          "metadata": {},
          "execution_count": 15
        }
      ]
    },
    {
      "cell_type": "markdown",
      "metadata": {
        "id": "J61vq7w-uyV2"
      },
      "source": [
        "## **E. Apakah data sudah dibagi menjadi data training dan testing(YA/TIDAK) kalau IYA tuliskan  jumlah data training dan testingnya**"
      ]
    },
    {
      "cell_type": "markdown",
      "metadata": {
        "id": "7K6MHM_uvHb3"
      },
      "source": [
        "TIDAK"
      ]
    },
    {
      "cell_type": "markdown",
      "metadata": {
        "id": "Ov_ymLShzmc0"
      },
      "source": [
        "# **2. Berdasarkan dataset yang sudah Anda peroleh dari soal No. 1. Masalah bisnis apa yang  mungkin diselesaikan menggunakan data tersebut?**"
      ]
    },
    {
      "cell_type": "markdown",
      "source": [
        "masalah bisnis yang mungkin dapat diselesaikan dengan data tersebut tentang menerapkan manajemen keuangan seperti pengelolaan stok, arus kas, piutang dan utang, pendapatan dan pengeluaran."
      ],
      "metadata": {
        "id": "XIdabKwK9wp7"
      }
    },
    {
      "cell_type": "markdown",
      "metadata": {
        "id": "mVsVAPahzwkf"
      },
      "source": [
        "# **3. Lakukan Eksploratory Data Analysis untuk menemukan 5 insight penting pada data yang Anda  peroleh. Sajikan hal tersebut melalui visualisasi data menggunakan tools visualisasi Python seperti  Matplotlib, Seaborn, dan Plotly!**\n"
      ]
    },
    {
      "cell_type": "markdown",
      "metadata": {
        "id": "k54jkzTAQlfl"
      },
      "source": [
        "## **Insight 1**\n",
        "Apakah ada hubungannya antara pekerjaan dengan rasio hutang terhadap pendapatan ?"
      ]
    },
    {
      "cell_type": "code",
      "metadata": {
        "colab": {
          "base_uri": "https://localhost:8080/",
          "height": 237
        },
        "id": "695yY0pQ3tZ8",
        "outputId": "de4a628f-8873-4d3b-cb72-b1d66a9f092e"
      },
      "source": [
        "data = df.groupby('JOB')['DEBTINC'].sum().reset_index()\n",
        "data"
      ],
      "execution_count": null,
      "outputs": [
        {
          "output_type": "execute_result",
          "data": {
            "text/html": [
              "<div>\n",
              "<style scoped>\n",
              "    .dataframe tbody tr th:only-of-type {\n",
              "        vertical-align: middle;\n",
              "    }\n",
              "\n",
              "    .dataframe tbody tr th {\n",
              "        vertical-align: top;\n",
              "    }\n",
              "\n",
              "    .dataframe thead th {\n",
              "        text-align: right;\n",
              "    }\n",
              "</style>\n",
              "<table border=\"1\" class=\"dataframe\">\n",
              "  <thead>\n",
              "    <tr style=\"text-align: right;\">\n",
              "      <th></th>\n",
              "      <th>JOB</th>\n",
              "      <th>DEBTINC</th>\n",
              "    </tr>\n",
              "  </thead>\n",
              "  <tbody>\n",
              "    <tr>\n",
              "      <th>0</th>\n",
              "      <td>Mgr</td>\n",
              "      <td>20672.831018</td>\n",
              "    </tr>\n",
              "    <tr>\n",
              "      <th>1</th>\n",
              "      <td>Office</td>\n",
              "      <td>27086.858100</td>\n",
              "    </tr>\n",
              "    <tr>\n",
              "      <th>2</th>\n",
              "      <td>Other</td>\n",
              "      <td>62970.765827</td>\n",
              "    </tr>\n",
              "    <tr>\n",
              "      <th>3</th>\n",
              "      <td>ProfExe</td>\n",
              "      <td>33321.644322</td>\n",
              "    </tr>\n",
              "    <tr>\n",
              "      <th>4</th>\n",
              "      <td>Sales</td>\n",
              "      <td>2965.223998</td>\n",
              "    </tr>\n",
              "    <tr>\n",
              "      <th>5</th>\n",
              "      <td>Self</td>\n",
              "      <td>5050.656842</td>\n",
              "    </tr>\n",
              "  </tbody>\n",
              "</table>\n",
              "</div>"
            ],
            "text/plain": [
              "       JOB       DEBTINC\n",
              "0      Mgr  20672.831018\n",
              "1   Office  27086.858100\n",
              "2    Other  62970.765827\n",
              "3  ProfExe  33321.644322\n",
              "4    Sales   2965.223998\n",
              "5     Self   5050.656842"
            ]
          },
          "metadata": {},
          "execution_count": 17
        }
      ]
    },
    {
      "cell_type": "code",
      "metadata": {
        "colab": {
          "base_uri": "https://localhost:8080/",
          "height": 754
        },
        "id": "Cc2-oDreOs0v",
        "outputId": "87f5a942-3def-4ccb-f407-41fd65953b9a"
      },
      "source": [
        "# Data\n",
        "pekerjaan = np.array(data.JOB)\n",
        "hutang = np.array(data.DEBTINC)\n",
        "\n",
        "# Menentukan spesifikasi figure dan axed\n",
        "fig, ax = plt.subplots(1,1,figsize=(10,12))\n",
        " \n",
        "# Horizontal Bar Plot\n",
        "ax.barh(pekerjaan, hutang)\n",
        " \n",
        "# Melabeli sumbu x\n",
        "ax.set_xlabel('Job')\n",
        " \n",
        "# Melabeli sumbu y\n",
        "ax.set_ylabel('Debtinc')\n",
        " \n",
        "# Memberi nama gambar\n",
        "ax.set_title('Hubungan Antara Pekerjaan dengan Hutang', loc='center', pad=25, fontsize=20, color='blue')\n",
        " \n",
        "# Menampilkan Visualisasi\n",
        "plt.show()"
      ],
      "execution_count": null,
      "outputs": [
        {
          "output_type": "display_data",
          "data": {
            "image/png": "[encoded data removed]",
            "text/plain": [
              "<Figure size 720x864 with 1 Axes>"
            ]
          },
          "metadata": {
            "needs_background": "light"
          }
        }
      ]
    },
    {
      "cell_type": "markdown",
      "metadata": {
        "id": "8NcREVO4RJMS"
      },
      "source": [
        "Berdasarkan grafik tersebut, variabel pekerjaan tidak berpengaruh terhadap rasio hutang yang logis karena nasabah ingin mendapatkan pinjaman yang dapat dikembalikan."
      ]
    },
    {
      "cell_type": "markdown",
      "metadata": {
        "id": "Nb6hfiIvRKN6"
      },
      "source": [
        "## **Insight 2**\n",
        "Nasabah mana yang memiliki nilai rata-rata permintaan pinjaman terbesar ?"
      ]
    },
    {
      "cell_type": "code",
      "metadata": {
        "colab": {
          "base_uri": "https://localhost:8080/",
          "height": 174
        },
        "id": "N3WEZ7t736lz",
        "outputId": "49e0ae19-da1a-4eef-a618-b03555acbc2b"
      },
      "source": [
        "data1 = df.groupby('JOB')['LOAN'].sum().reset_index()\n",
        "data1.nlargest(4, 'LOAN')"
      ],
      "execution_count": null,
      "outputs": [
        {
          "output_type": "execute_result",
          "data": {
            "text/html": [
              "<div>\n",
              "<style scoped>\n",
              "    .dataframe tbody tr th:only-of-type {\n",
              "        vertical-align: middle;\n",
              "    }\n",
              "\n",
              "    .dataframe tbody tr th {\n",
              "        vertical-align: top;\n",
              "    }\n",
              "\n",
              "    .dataframe thead th {\n",
              "        text-align: right;\n",
              "    }\n",
              "</style>\n",
              "<table border=\"1\" class=\"dataframe\">\n",
              "  <thead>\n",
              "    <tr style=\"text-align: right;\">\n",
              "      <th></th>\n",
              "      <th>JOB</th>\n",
              "      <th>LOAN</th>\n",
              "    </tr>\n",
              "  </thead>\n",
              "  <tbody>\n",
              "    <tr>\n",
              "      <th>2</th>\n",
              "      <td>Other</td>\n",
              "      <td>43131300</td>\n",
              "    </tr>\n",
              "    <tr>\n",
              "      <th>3</th>\n",
              "      <td>ProfExe</td>\n",
              "      <td>24222900</td>\n",
              "    </tr>\n",
              "    <tr>\n",
              "      <th>1</th>\n",
              "      <td>Office</td>\n",
              "      <td>17199200</td>\n",
              "    </tr>\n",
              "    <tr>\n",
              "      <th>0</th>\n",
              "      <td>Mgr</td>\n",
              "      <td>14692100</td>\n",
              "    </tr>\n",
              "  </tbody>\n",
              "</table>\n",
              "</div>"
            ],
            "text/plain": [
              "       JOB      LOAN\n",
              "2    Other  43131300\n",
              "3  ProfExe  24222900\n",
              "1   Office  17199200\n",
              "0      Mgr  14692100"
            ]
          },
          "metadata": {},
          "execution_count": 19
        }
      ]
    },
    {
      "cell_type": "code",
      "metadata": {
        "colab": {
          "base_uri": "https://localhost:8080/",
          "height": 294
        },
        "id": "D1aBeNe2Ez-c",
        "outputId": "4e5a9c12-7843-41e3-eb13-17b120ee8709"
      },
      "source": [
        "plt.bar(data1.JOB, data1.LOAN)\n",
        "plt.grid()\n",
        "\n",
        "plt.xlabel('Job')\n",
        "plt.ylabel('Loan')\n",
        "plt.title('Nasabah Dengan Permintaan Pinjaman Terbesar')\n",
        "\n",
        "plt.show()"
      ],
      "execution_count": null,
      "outputs": [
        {
          "output_type": "display_data",
          "data": {
            "image/png": "[encoded data removed]",
            "text/plain": [
              "<Figure size 432x288 with 1 Axes>"
            ]
          },
          "metadata": {
            "needs_background": "light"
          }
        }
      ]
    },
    {
      "cell_type": "markdown",
      "metadata": {
        "id": "iGH6oSCS8wU6"
      },
      "source": [
        "Menurut plot di atas, orang yang sendiri adalah yang terkaya dari pekerjaan yang tersedia, mungkin karena mereka biasanya memiliki bisnis maupun pekerjaan yang lainnya."
      ]
    },
    {
      "cell_type": "markdown",
      "metadata": {
        "id": "6GoHasniRlth"
      },
      "source": [
        "## **Insight 3**\n",
        "Apa alasan dari mereka (orang-orang) banyak mengambil pinjaman ?"
      ]
    },
    {
      "cell_type": "code",
      "metadata": {
        "colab": {
          "base_uri": "https://localhost:8080/",
          "height": 112
        },
        "id": "1C_hN7qmX_h1",
        "outputId": "da577d13-2bcb-496f-b722-ff5c6a389f06"
      },
      "source": [
        "data3 = df.groupby('REASON')['LOAN'].sum().reset_index()\n",
        "data3"
      ],
      "execution_count": null,
      "outputs": [
        {
          "output_type": "execute_result",
          "data": {
            "text/html": [
              "<div>\n",
              "<style scoped>\n",
              "    .dataframe tbody tr th:only-of-type {\n",
              "        vertical-align: middle;\n",
              "    }\n",
              "\n",
              "    .dataframe tbody tr th {\n",
              "        vertical-align: top;\n",
              "    }\n",
              "\n",
              "    .dataframe thead th {\n",
              "        text-align: right;\n",
              "    }\n",
              "</style>\n",
              "<table border=\"1\" class=\"dataframe\">\n",
              "  <thead>\n",
              "    <tr style=\"text-align: right;\">\n",
              "      <th></th>\n",
              "      <th>REASON</th>\n",
              "      <th>LOAN</th>\n",
              "    </tr>\n",
              "  </thead>\n",
              "  <tbody>\n",
              "    <tr>\n",
              "      <th>0</th>\n",
              "      <td>DebtCon</td>\n",
              "      <td>78375200</td>\n",
              "    </tr>\n",
              "    <tr>\n",
              "      <th>1</th>\n",
              "      <td>HomeImp</td>\n",
              "      <td>28491800</td>\n",
              "    </tr>\n",
              "  </tbody>\n",
              "</table>\n",
              "</div>"
            ],
            "text/plain": [
              "    REASON      LOAN\n",
              "0  DebtCon  78375200\n",
              "1  HomeImp  28491800"
            ]
          },
          "metadata": {},
          "execution_count": 7
        }
      ]
    },
    {
      "cell_type": "code",
      "metadata": {
        "colab": {
          "base_uri": "https://localhost:8080/",
          "height": 318
        },
        "id": "Ahh14rzXBEic",
        "outputId": "fde6f4e6-8337-4c37-c631-fb9ca6b40ed7"
      },
      "source": [
        "plt.bar(data3.REASON, data3.LOAN)\n",
        "plt.grid()\n",
        "\n",
        "plt.xlabel('Reason')\n",
        "plt.ylabel('Loan')\n",
        "plt.title('Alasan Orang-Orang Mengambil Pinjaman', loc='center', pad=25, fontsize=20, color='blue')\n",
        "\n",
        "plt.show()"
      ],
      "execution_count": null,
      "outputs": [
        {
          "output_type": "display_data",
          "data": {
            "image/png": "[encoded data removed]",
            "text/plain": [
              "<Figure size 432x288 with 1 Axes>"
            ]
          },
          "metadata": {
            "needs_background": "light"
          }
        }
      ]
    },
    {
      "cell_type": "markdown",
      "metadata": {
        "id": "NGGTNs1uBHLM"
      },
      "source": [
        "Dari hasil diatas menunjukkan bahwa orang-orang mengambil nilai pinjaman yang lebih tinggi untuk konsolidasi utang daripada untuk alasan Perbaikan Rumah"
      ]
    },
    {
      "cell_type": "markdown",
      "metadata": {
        "id": "7PoSYTqVRofh"
      },
      "source": [
        "## **Insight 4**\n",
        "Apakah jumlah pekerjaan bervariasi sesuai dengan alasan pinjaman?"
      ]
    },
    {
      "cell_type": "code",
      "metadata": {
        "colab": {
          "base_uri": "https://localhost:8080/",
          "height": 281
        },
        "id": "NwJLksmadDUd",
        "outputId": "1760ef2d-5086-4646-e24e-a0d8c194ea68"
      },
      "source": [
        "df[df[\"REASON\"] == \"DebtCon\"][\"JOB\"].value_counts(normalize=True).plot(kind='pie');\n",
        "plt.title('Jumlah Pekerjaan Terhadap Alasan Pinjaman', loc='center', color='blue')"
      ],
      "execution_count": null,
      "outputs": [
        {
          "output_type": "execute_result",
          "data": {
            "text/plain": [
              "Text(0.5, 1.0, 'Jumlah Pekerjaan Terhadap Alasan Pinjaman')"
            ]
          },
          "metadata": {},
          "execution_count": 33
        },
        {
          "output_type": "display_data",
          "data": {
            "image/png": "[encoded data removed]",
            "text/plain": [
              "<Figure size 432x288 with 1 Axes>"
            ]
          },
          "metadata": {}
        }
      ]
    },
    {
      "cell_type": "code",
      "metadata": {
        "colab": {
          "base_uri": "https://localhost:8080/",
          "height": 281
        },
        "id": "eYAGjXFFgGHE",
        "outputId": "c2d922ce-af78-46d6-fcf9-002172bbbaf8"
      },
      "source": [
        "df[df[\"REASON\"] == \"HomeImp\"][\"JOB\"].value_counts(normalize=True).plot(kind='pie');\n",
        "plt.title('Jumlah Pekerjaan Terhadap Alasan Pinjaman', loc='center', color='blue')"
      ],
      "execution_count": null,
      "outputs": [
        {
          "output_type": "execute_result",
          "data": {
            "text/plain": [
              "Text(0.5, 1.0, 'Jumlah Pekerjaan Terhadap Alasan Pinjaman')"
            ]
          },
          "metadata": {},
          "execution_count": 238
        },
        {
          "output_type": "display_data",
          "data": {
            "image/png": "[encoded data removed]",
            "text/plain": [
              "<Figure size 432x288 with 1 Axes>"
            ]
          },
          "metadata": {}
        }
      ]
    },
    {
      "cell_type": "markdown",
      "metadata": {
        "id": "OubN0xaKFxsx"
      },
      "source": [
        "Tidak, proporsinya hampir sama, jadi jumlah pekerjaan tidak berubah karena alasan pinjaman."
      ]
    },
    {
      "cell_type": "markdown",
      "metadata": {
        "id": "cQkDD77cgHU9"
      },
      "source": [
        "## **Insight 5**"
      ]
    },
    {
      "cell_type": "markdown",
      "metadata": {
        "id": "nQT-N-YsjtMa"
      },
      "source": [
        "Kategori pekerjaan manakah yang jumlah jalur kredit tunggaknya paling sedikit?"
      ]
    },
    {
      "cell_type": "code",
      "metadata": {
        "colab": {
          "base_uri": "https://localhost:8080/",
          "height": 237
        },
        "id": "IE6yylsC-YEJ",
        "outputId": "8d4c346c-664a-498f-8e10-cad8b0a1b111"
      },
      "source": [
        "data4 = df.groupby('JOB')['DELINQ'].sum().reset_index()\n",
        "data4"
      ],
      "execution_count": null,
      "outputs": [
        {
          "output_type": "execute_result",
          "data": {
            "text/html": [
              "<div>\n",
              "<style scoped>\n",
              "    .dataframe tbody tr th:only-of-type {\n",
              "        vertical-align: middle;\n",
              "    }\n",
              "\n",
              "    .dataframe tbody tr th {\n",
              "        vertical-align: top;\n",
              "    }\n",
              "\n",
              "    .dataframe thead th {\n",
              "        text-align: right;\n",
              "    }\n",
              "</style>\n",
              "<table border=\"1\" class=\"dataframe\">\n",
              "  <thead>\n",
              "    <tr style=\"text-align: right;\">\n",
              "      <th></th>\n",
              "      <th>JOB</th>\n",
              "      <th>DELINQ</th>\n",
              "    </tr>\n",
              "  </thead>\n",
              "  <tbody>\n",
              "    <tr>\n",
              "      <th>0</th>\n",
              "      <td>Mgr</td>\n",
              "      <td>439.0</td>\n",
              "    </tr>\n",
              "    <tr>\n",
              "      <th>1</th>\n",
              "      <td>Office</td>\n",
              "      <td>397.0</td>\n",
              "    </tr>\n",
              "    <tr>\n",
              "      <th>2</th>\n",
              "      <td>Other</td>\n",
              "      <td>906.0</td>\n",
              "    </tr>\n",
              "    <tr>\n",
              "      <th>3</th>\n",
              "      <td>ProfExe</td>\n",
              "      <td>510.0</td>\n",
              "    </tr>\n",
              "    <tr>\n",
              "      <th>4</th>\n",
              "      <td>Sales</td>\n",
              "      <td>30.0</td>\n",
              "    </tr>\n",
              "    <tr>\n",
              "      <th>5</th>\n",
              "      <td>Self</td>\n",
              "      <td>103.0</td>\n",
              "    </tr>\n",
              "  </tbody>\n",
              "</table>\n",
              "</div>"
            ],
            "text/plain": [
              "       JOB  DELINQ\n",
              "0      Mgr   439.0\n",
              "1   Office   397.0\n",
              "2    Other   906.0\n",
              "3  ProfExe   510.0\n",
              "4    Sales    30.0\n",
              "5     Self   103.0"
            ]
          },
          "metadata": {},
          "execution_count": 217
        }
      ]
    },
    {
      "cell_type": "code",
      "metadata": {
        "colab": {
          "base_uri": "https://localhost:8080/",
          "height": 278
        },
        "id": "Piv7f3qWdChC",
        "outputId": "dd40afa8-dca5-4719-f097-b756e0d5d542"
      },
      "source": [
        "plt.bar(data4.JOB, data4.DELINQ)\n",
        "plt.grid()\n",
        "\n",
        "plt.xlabel('JOB')\n",
        "plt.ylabel('DELINQ')\n",
        "plt.show()"
      ],
      "execution_count": null,
      "outputs": [
        {
          "output_type": "display_data",
          "data": {
            "image/png": "[encoded data removed]",
            "text/plain": [
              "<Figure size 432x288 with 1 Axes>"
            ]
          },
          "metadata": {
            "needs_background": "light"
          }
        }
      ]
    },
    {
      "cell_type": "markdown",
      "metadata": {
        "id": "HcDffq8aj2eU"
      },
      "source": [
        "Dari hasil plot diatas menunjukkan bahwa kategori pekerjaan sales memiliki jalur kredit yang menunggak paling sedikit daripada kategori pekerjaan yang lain."
      ]
    },
    {
      "cell_type": "markdown",
      "metadata": {
        "id": "4fuVTbnOz6Zs"
      },
      "source": [
        "# **4. Lakukan Data Preprocesing pada data yang Anda peroleh sebagai berikut:** \n"
      ]
    },
    {
      "cell_type": "markdown",
      "metadata": {
        "id": "Y9Utc_5G-KqG"
      },
      "source": [
        "## **A. Lakukan standarisasi nama kolom, yaitu menggunakan huruf kecil dan spasi diganti dengan  garis bawah. Contoh: Kolom 1 menjadi kolom_1** \n"
      ]
    },
    {
      "cell_type": "code",
      "metadata": {
        "colab": {
          "base_uri": "https://localhost:8080/",
          "height": 206
        },
        "id": "TJTuFmtakl85",
        "outputId": "8dfea224-8499-47c9-87b6-81cacfea9402"
      },
      "source": [
        "df.head()"
      ],
      "execution_count": null,
      "outputs": [
        {
          "output_type": "execute_result",
          "data": {
            "text/html": [
              "<div>\n",
              "<style scoped>\n",
              "    .dataframe tbody tr th:only-of-type {\n",
              "        vertical-align: middle;\n",
              "    }\n",
              "\n",
              "    .dataframe tbody tr th {\n",
              "        vertical-align: top;\n",
              "    }\n",
              "\n",
              "    .dataframe thead th {\n",
              "        text-align: right;\n",
              "    }\n",
              "</style>\n",
              "<table border=\"1\" class=\"dataframe\">\n",
              "  <thead>\n",
              "    <tr style=\"text-align: right;\">\n",
              "      <th></th>\n",
              "      <th>BAD</th>\n",
              "      <th>LOAN</th>\n",
              "      <th>MORTDUE</th>\n",
              "      <th>VALUE</th>\n",
              "      <th>REASON</th>\n",
              "      <th>JOB</th>\n",
              "      <th>YOJ</th>\n",
              "      <th>DEROG</th>\n",
              "      <th>DELINQ</th>\n",
              "      <th>CLAGE</th>\n",
              "      <th>NINQ</th>\n",
              "      <th>CLNO</th>\n",
              "      <th>DEBTINC</th>\n",
              "    </tr>\n",
              "  </thead>\n",
              "  <tbody>\n",
              "    <tr>\n",
              "      <th>0</th>\n",
              "      <td>1</td>\n",
              "      <td>1100</td>\n",
              "      <td>25860.0</td>\n",
              "      <td>39025.0</td>\n",
              "      <td>HomeImp</td>\n",
              "      <td>Other</td>\n",
              "      <td>10.5</td>\n",
              "      <td>0.0</td>\n",
              "      <td>0.0</td>\n",
              "      <td>94.366667</td>\n",
              "      <td>1.0</td>\n",
              "      <td>9.0</td>\n",
              "      <td>NaN</td>\n",
              "    </tr>\n",
              "    <tr>\n",
              "      <th>1</th>\n",
              "      <td>1</td>\n",
              "      <td>1300</td>\n",
              "      <td>70053.0</td>\n",
              "      <td>68400.0</td>\n",
              "      <td>HomeImp</td>\n",
              "      <td>Other</td>\n",
              "      <td>7.0</td>\n",
              "      <td>0.0</td>\n",
              "      <td>2.0</td>\n",
              "      <td>121.833333</td>\n",
              "      <td>0.0</td>\n",
              "      <td>14.0</td>\n",
              "      <td>NaN</td>\n",
              "    </tr>\n",
              "    <tr>\n",
              "      <th>2</th>\n",
              "      <td>1</td>\n",
              "      <td>1500</td>\n",
              "      <td>13500.0</td>\n",
              "      <td>16700.0</td>\n",
              "      <td>HomeImp</td>\n",
              "      <td>Other</td>\n",
              "      <td>4.0</td>\n",
              "      <td>0.0</td>\n",
              "      <td>0.0</td>\n",
              "      <td>149.466667</td>\n",
              "      <td>1.0</td>\n",
              "      <td>10.0</td>\n",
              "      <td>NaN</td>\n",
              "    </tr>\n",
              "    <tr>\n",
              "      <th>3</th>\n",
              "      <td>1</td>\n",
              "      <td>1500</td>\n",
              "      <td>NaN</td>\n",
              "      <td>NaN</td>\n",
              "      <td>NaN</td>\n",
              "      <td>NaN</td>\n",
              "      <td>NaN</td>\n",
              "      <td>NaN</td>\n",
              "      <td>NaN</td>\n",
              "      <td>NaN</td>\n",
              "      <td>NaN</td>\n",
              "      <td>NaN</td>\n",
              "      <td>NaN</td>\n",
              "    </tr>\n",
              "    <tr>\n",
              "      <th>4</th>\n",
              "      <td>0</td>\n",
              "      <td>1700</td>\n",
              "      <td>97800.0</td>\n",
              "      <td>112000.0</td>\n",
              "      <td>HomeImp</td>\n",
              "      <td>Office</td>\n",
              "      <td>3.0</td>\n",
              "      <td>0.0</td>\n",
              "      <td>0.0</td>\n",
              "      <td>93.333333</td>\n",
              "      <td>0.0</td>\n",
              "      <td>14.0</td>\n",
              "      <td>NaN</td>\n",
              "    </tr>\n",
              "  </tbody>\n",
              "</table>\n",
              "</div>"
            ],
            "text/plain": [
              "   BAD  LOAN  MORTDUE     VALUE  ...       CLAGE NINQ  CLNO  DEBTINC\n",
              "0    1  1100  25860.0   39025.0  ...   94.366667  1.0   9.0      NaN\n",
              "1    1  1300  70053.0   68400.0  ...  121.833333  0.0  14.0      NaN\n",
              "2    1  1500  13500.0   16700.0  ...  149.466667  1.0  10.0      NaN\n",
              "3    1  1500      NaN       NaN  ...         NaN  NaN   NaN      NaN\n",
              "4    0  1700  97800.0  112000.0  ...   93.333333  0.0  14.0      NaN\n",
              "\n",
              "[5 rows x 13 columns]"
            ]
          },
          "metadata": {},
          "execution_count": 240
        }
      ]
    },
    {
      "cell_type": "markdown",
      "metadata": {
        "id": "B6wzl_1vUkpT"
      },
      "source": [
        "Standarisasi nama kolom"
      ]
    },
    {
      "cell_type": "code",
      "metadata": {
        "id": "Ug3HSH-9kKdm",
        "colab": {
          "base_uri": "https://localhost:8080/",
          "height": 206
        },
        "outputId": "009a7271-9674-4c26-93dd-7d20820759f9"
      },
      "source": [
        "df.rename(columns={'BAD':'bad'}, inplace=True)\n",
        "df.rename(columns={'LOAN':'loan'}, inplace=True)\n",
        "df.rename(columns={'MORTDUE':'mortdue'}, inplace=True)\n",
        "df.rename(columns={'VALUE':'value'}, inplace=True)\n",
        "df.rename(columns={'REASON':'reason'}, inplace=True)\n",
        "df.rename(columns={'JOB':'job'}, inplace=True)\n",
        "df.rename(columns={'YOJ':'yoj'}, inplace=True)\n",
        "df.rename(columns={'DEROG':'derog'}, inplace=True)\n",
        "df.rename(columns={'DELINQ':'delinq'}, inplace=True)\n",
        "df.rename(columns={'CLAGE':'clage'}, inplace=True)\n",
        "df.rename(columns={'NINQ':'ninq'}, inplace=True)\n",
        "df.rename(columns={'CLNO':'clno'}, inplace=True)\n",
        "df.rename(columns={'DEBTINC':'debtinc'}, inplace=True)\n",
        "df.head()"
      ],
      "execution_count": null,
      "outputs": [
        {
          "output_type": "execute_result",
          "data": {
            "text/html": [
              "<div>\n",
              "<style scoped>\n",
              "    .dataframe tbody tr th:only-of-type {\n",
              "        vertical-align: middle;\n",
              "    }\n",
              "\n",
              "    .dataframe tbody tr th {\n",
              "        vertical-align: top;\n",
              "    }\n",
              "\n",
              "    .dataframe thead th {\n",
              "        text-align: right;\n",
              "    }\n",
              "</style>\n",
              "<table border=\"1\" class=\"dataframe\">\n",
              "  <thead>\n",
              "    <tr style=\"text-align: right;\">\n",
              "      <th></th>\n",
              "      <th>bad</th>\n",
              "      <th>loan</th>\n",
              "      <th>mortdue</th>\n",
              "      <th>value</th>\n",
              "      <th>reason</th>\n",
              "      <th>job</th>\n",
              "      <th>yoj</th>\n",
              "      <th>derog</th>\n",
              "      <th>delinq</th>\n",
              "      <th>clage</th>\n",
              "      <th>ninq</th>\n",
              "      <th>clno</th>\n",
              "      <th>debtinc</th>\n",
              "    </tr>\n",
              "  </thead>\n",
              "  <tbody>\n",
              "    <tr>\n",
              "      <th>0</th>\n",
              "      <td>1</td>\n",
              "      <td>1100</td>\n",
              "      <td>25860.0</td>\n",
              "      <td>39025.0</td>\n",
              "      <td>HomeImp</td>\n",
              "      <td>Other</td>\n",
              "      <td>10.5</td>\n",
              "      <td>0.0</td>\n",
              "      <td>0.0</td>\n",
              "      <td>94.366667</td>\n",
              "      <td>1.0</td>\n",
              "      <td>9.0</td>\n",
              "      <td>NaN</td>\n",
              "    </tr>\n",
              "    <tr>\n",
              "      <th>1</th>\n",
              "      <td>1</td>\n",
              "      <td>1300</td>\n",
              "      <td>70053.0</td>\n",
              "      <td>68400.0</td>\n",
              "      <td>HomeImp</td>\n",
              "      <td>Other</td>\n",
              "      <td>7.0</td>\n",
              "      <td>0.0</td>\n",
              "      <td>2.0</td>\n",
              "      <td>121.833333</td>\n",
              "      <td>0.0</td>\n",
              "      <td>14.0</td>\n",
              "      <td>NaN</td>\n",
              "    </tr>\n",
              "    <tr>\n",
              "      <th>2</th>\n",
              "      <td>1</td>\n",
              "      <td>1500</td>\n",
              "      <td>13500.0</td>\n",
              "      <td>16700.0</td>\n",
              "      <td>HomeImp</td>\n",
              "      <td>Other</td>\n",
              "      <td>4.0</td>\n",
              "      <td>0.0</td>\n",
              "      <td>0.0</td>\n",
              "      <td>149.466667</td>\n",
              "      <td>1.0</td>\n",
              "      <td>10.0</td>\n",
              "      <td>NaN</td>\n",
              "    </tr>\n",
              "    <tr>\n",
              "      <th>3</th>\n",
              "      <td>1</td>\n",
              "      <td>1500</td>\n",
              "      <td>NaN</td>\n",
              "      <td>NaN</td>\n",
              "      <td>NaN</td>\n",
              "      <td>NaN</td>\n",
              "      <td>NaN</td>\n",
              "      <td>NaN</td>\n",
              "      <td>NaN</td>\n",
              "      <td>NaN</td>\n",
              "      <td>NaN</td>\n",
              "      <td>NaN</td>\n",
              "      <td>NaN</td>\n",
              "    </tr>\n",
              "    <tr>\n",
              "      <th>4</th>\n",
              "      <td>0</td>\n",
              "      <td>1700</td>\n",
              "      <td>97800.0</td>\n",
              "      <td>112000.0</td>\n",
              "      <td>HomeImp</td>\n",
              "      <td>Office</td>\n",
              "      <td>3.0</td>\n",
              "      <td>0.0</td>\n",
              "      <td>0.0</td>\n",
              "      <td>93.333333</td>\n",
              "      <td>0.0</td>\n",
              "      <td>14.0</td>\n",
              "      <td>NaN</td>\n",
              "    </tr>\n",
              "  </tbody>\n",
              "</table>\n",
              "</div>"
            ],
            "text/plain": [
              "   bad  loan  mortdue     value  ...       clage ninq  clno  debtinc\n",
              "0    1  1100  25860.0   39025.0  ...   94.366667  1.0   9.0      NaN\n",
              "1    1  1300  70053.0   68400.0  ...  121.833333  0.0  14.0      NaN\n",
              "2    1  1500  13500.0   16700.0  ...  149.466667  1.0  10.0      NaN\n",
              "3    1  1500      NaN       NaN  ...         NaN  NaN   NaN      NaN\n",
              "4    0  1700  97800.0  112000.0  ...   93.333333  0.0  14.0      NaN\n",
              "\n",
              "[5 rows x 13 columns]"
            ]
          },
          "metadata": {},
          "execution_count": 241
        }
      ]
    },
    {
      "cell_type": "markdown",
      "metadata": {
        "id": "TsAgUspa-Olj"
      },
      "source": [
        "## **B. Adakah data kosong pada data yang Anda miliki?, jika ada lakukan pengisian data kosong,  tuliskan alasan anda mengapa Anda memilih sebuah cara tertentu untuk mengisi data kosong  tersebut!**"
      ]
    },
    {
      "cell_type": "markdown",
      "metadata": {
        "id": "_VhS5Iu-rvjZ"
      },
      "source": [
        "Iya ada"
      ]
    },
    {
      "cell_type": "code",
      "metadata": {
        "colab": {
          "base_uri": "https://localhost:8080/"
        },
        "id": "niPrK8iZKtBR",
        "outputId": "6e444b21-2960-430f-a425-3d518939ce37"
      },
      "source": [
        "# mengecek mising value\n",
        "df.isnull().sum()"
      ],
      "execution_count": null,
      "outputs": [
        {
          "output_type": "execute_result",
          "data": {
            "text/plain": [
              "bad           0\n",
              "loan          0\n",
              "mortdue     518\n",
              "value       112\n",
              "reason      252\n",
              "job         279\n",
              "yoj         515\n",
              "derog       708\n",
              "delinq      580\n",
              "clage       308\n",
              "ninq        510\n",
              "clno        222\n",
              "debtinc    1267\n",
              "dtype: int64"
            ]
          },
          "metadata": {},
          "execution_count": 242
        }
      ]
    },
    {
      "cell_type": "markdown",
      "metadata": {
        "id": "zp5jwRbaPNsB"
      },
      "source": [
        "Mengisi NaN pada kolom reason dan job dengan salah satu nama reason dan job tertentu, mengisi NaN pada kolom mortdue, value, yoj, derog, delinq, clage, ninq, clno, dan debtinc dengan nilai rata-ratanya (mean)."
      ]
    },
    {
      "cell_type": "code",
      "metadata": {
        "colab": {
          "base_uri": "https://localhost:8080/",
          "height": 206
        },
        "id": "Ogk2BUBhK_Ho",
        "outputId": "6901de54-b537-4640-cde6-c572a9f503e9"
      },
      "source": [
        "df['mortdue']=df['mortdue'].fillna(df['mortdue'].mean())\n",
        "df['value']=df['value'].fillna(df['value'].mean())\n",
        "df['reason']=df['reason'].replace(np.nan, \"DebtCon\")\n",
        "df['job']=df['job'].replace(np.nan, \"Other\")\n",
        "df['yoj']=df['yoj'].fillna(df['yoj'].mean())\n",
        "df['derog']=df['derog'].fillna(df['derog'].mean())\n",
        "df['delinq']=df['delinq'].fillna(df['delinq'].mean())\n",
        "df['clage']=df['clage'].fillna(df['clage'].mean())\n",
        "df['ninq']=df['ninq'].fillna(df['ninq'].mean())\n",
        "df['clno']=df['clno'].fillna(df['clno'].mean())\n",
        "df['debtinc']=df['debtinc'].fillna(df['debtinc'].mean())\n",
        "df.head()"
      ],
      "execution_count": null,
      "outputs": [
        {
          "output_type": "execute_result",
          "data": {
            "text/html": [
              "<div>\n",
              "<style scoped>\n",
              "    .dataframe tbody tr th:only-of-type {\n",
              "        vertical-align: middle;\n",
              "    }\n",
              "\n",
              "    .dataframe tbody tr th {\n",
              "        vertical-align: top;\n",
              "    }\n",
              "\n",
              "    .dataframe thead th {\n",
              "        text-align: right;\n",
              "    }\n",
              "</style>\n",
              "<table border=\"1\" class=\"dataframe\">\n",
              "  <thead>\n",
              "    <tr style=\"text-align: right;\">\n",
              "      <th></th>\n",
              "      <th>bad</th>\n",
              "      <th>loan</th>\n",
              "      <th>mortdue</th>\n",
              "      <th>value</th>\n",
              "      <th>reason</th>\n",
              "      <th>job</th>\n",
              "      <th>yoj</th>\n",
              "      <th>derog</th>\n",
              "      <th>delinq</th>\n",
              "      <th>clage</th>\n",
              "      <th>ninq</th>\n",
              "      <th>clno</th>\n",
              "      <th>debtinc</th>\n",
              "    </tr>\n",
              "  </thead>\n",
              "  <tbody>\n",
              "    <tr>\n",
              "      <th>0</th>\n",
              "      <td>1</td>\n",
              "      <td>1100</td>\n",
              "      <td>25860.0000</td>\n",
              "      <td>39025.000000</td>\n",
              "      <td>HomeImp</td>\n",
              "      <td>Other</td>\n",
              "      <td>10.500000</td>\n",
              "      <td>0.00000</td>\n",
              "      <td>0.000000</td>\n",
              "      <td>94.366667</td>\n",
              "      <td>1.000000</td>\n",
              "      <td>9.000000</td>\n",
              "      <td>33.779915</td>\n",
              "    </tr>\n",
              "    <tr>\n",
              "      <th>1</th>\n",
              "      <td>1</td>\n",
              "      <td>1300</td>\n",
              "      <td>70053.0000</td>\n",
              "      <td>68400.000000</td>\n",
              "      <td>HomeImp</td>\n",
              "      <td>Other</td>\n",
              "      <td>7.000000</td>\n",
              "      <td>0.00000</td>\n",
              "      <td>2.000000</td>\n",
              "      <td>121.833333</td>\n",
              "      <td>0.000000</td>\n",
              "      <td>14.000000</td>\n",
              "      <td>33.779915</td>\n",
              "    </tr>\n",
              "    <tr>\n",
              "      <th>2</th>\n",
              "      <td>1</td>\n",
              "      <td>1500</td>\n",
              "      <td>13500.0000</td>\n",
              "      <td>16700.000000</td>\n",
              "      <td>HomeImp</td>\n",
              "      <td>Other</td>\n",
              "      <td>4.000000</td>\n",
              "      <td>0.00000</td>\n",
              "      <td>0.000000</td>\n",
              "      <td>149.466667</td>\n",
              "      <td>1.000000</td>\n",
              "      <td>10.000000</td>\n",
              "      <td>33.779915</td>\n",
              "    </tr>\n",
              "    <tr>\n",
              "      <th>3</th>\n",
              "      <td>1</td>\n",
              "      <td>1500</td>\n",
              "      <td>73760.8172</td>\n",
              "      <td>101776.048741</td>\n",
              "      <td>DebtCon</td>\n",
              "      <td>Other</td>\n",
              "      <td>8.922268</td>\n",
              "      <td>0.25457</td>\n",
              "      <td>0.449442</td>\n",
              "      <td>179.766275</td>\n",
              "      <td>1.186055</td>\n",
              "      <td>21.296096</td>\n",
              "      <td>33.779915</td>\n",
              "    </tr>\n",
              "    <tr>\n",
              "      <th>4</th>\n",
              "      <td>0</td>\n",
              "      <td>1700</td>\n",
              "      <td>97800.0000</td>\n",
              "      <td>112000.000000</td>\n",
              "      <td>HomeImp</td>\n",
              "      <td>Office</td>\n",
              "      <td>3.000000</td>\n",
              "      <td>0.00000</td>\n",
              "      <td>0.000000</td>\n",
              "      <td>93.333333</td>\n",
              "      <td>0.000000</td>\n",
              "      <td>14.000000</td>\n",
              "      <td>33.779915</td>\n",
              "    </tr>\n",
              "  </tbody>\n",
              "</table>\n",
              "</div>"
            ],
            "text/plain": [
              "   bad  loan     mortdue  ...      ninq       clno    debtinc\n",
              "0    1  1100  25860.0000  ...  1.000000   9.000000  33.779915\n",
              "1    1  1300  70053.0000  ...  0.000000  14.000000  33.779915\n",
              "2    1  1500  13500.0000  ...  1.000000  10.000000  33.779915\n",
              "3    1  1500  73760.8172  ...  1.186055  21.296096  33.779915\n",
              "4    0  1700  97800.0000  ...  0.000000  14.000000  33.779915\n",
              "\n",
              "[5 rows x 13 columns]"
            ]
          },
          "metadata": {},
          "execution_count": 243
        }
      ]
    },
    {
      "cell_type": "code",
      "metadata": {
        "colab": {
          "base_uri": "https://localhost:8080/"
        },
        "id": "s0fYJuHcPkuo",
        "outputId": "12a74b50-9516-405e-e9d6-faad29bf5b8f"
      },
      "source": [
        "# mengecek mising value\n",
        "df.isnull().sum()"
      ],
      "execution_count": null,
      "outputs": [
        {
          "output_type": "execute_result",
          "data": {
            "text/plain": [
              "bad        0\n",
              "loan       0\n",
              "mortdue    0\n",
              "value      0\n",
              "reason     0\n",
              "job        0\n",
              "yoj        0\n",
              "derog      0\n",
              "delinq     0\n",
              "clage      0\n",
              "ninq       0\n",
              "clno       0\n",
              "debtinc    0\n",
              "dtype: int64"
            ]
          },
          "metadata": {},
          "execution_count": 244
        }
      ]
    },
    {
      "cell_type": "markdown",
      "metadata": {
        "id": "cTARAHdTJCz7"
      },
      "source": [
        "alasan menggunakan cara untuk mengisi nilai Nan dengan nilai tertentu dan mean (rata-rata) yaitu menghitung mean, median atau modus adalah metode imputasi yang paling sederhana, karena fungsi yang diuji tidak mengambil keuntungan dari karakteristik time series atau hubungan antar variabel dan lebih cepat. walaupun menggunakan cara ini memiliki kelemahan, salah satu kelemahannya adalah imputasi berarti mengurangi varians dalam dataset."
      ]
    },
    {
      "cell_type": "markdown",
      "metadata": {
        "id": "BGPCNgZe-X1D"
      },
      "source": [
        "## **C. Adakah outlier pada data yang Anda miliki? Jika ada lakukan penghapusan outlier!** "
      ]
    },
    {
      "cell_type": "code",
      "metadata": {
        "id": "ZE4VwONXDMVD",
        "colab": {
          "base_uri": "https://localhost:8080/",
          "height": 352
        },
        "outputId": "81380e8c-0870-4cdb-c053-cb26279baf8c"
      },
      "source": [
        "# mengecek outlier\n",
        "df1=df.select_dtypes(include=['float64', 'int64'])#Memilih kolom numerik\n",
        "\n",
        "sns.boxplot(x=\"variable\", y=\"value\", color='red',orient='v', data=pd.melt(df1))\n",
        "plt.tight_layout()"
      ],
      "execution_count": null,
      "outputs": [
        {
          "output_type": "stream",
          "name": "stderr",
          "text": [
            "/usr/local/lib/python3.7/dist-packages/IPython/core/interactiveshell.py:2882: FutureWarning: This dataframe has a column name that matches the 'value_name' column name of the resultiing Dataframe. In the future this will raise an error, please set the 'value_name' parameter of DataFrame.melt to a unique name.\n",
            "  exec(code_obj, self.user_global_ns, self.user_ns)\n"
          ]
        },
        {
          "output_type": "display_data",
          "data": {
            "image/png": "[encoded data removed]",
            "text/plain": [
              "<Figure size 432x288 with 1 Axes>"
            ]
          },
          "metadata": {
            "needs_background": "light"
          }
        }
      ]
    },
    {
      "cell_type": "markdown",
      "metadata": {
        "id": "XaIrczYnM_OG"
      },
      "source": [
        "semua kolom memiliki outlier"
      ]
    },
    {
      "cell_type": "markdown",
      "metadata": {
        "id": "j9_N-3dfSCZU"
      },
      "source": [
        "Rentang interkuartil (IQR) adalah ukuran penyebaran statistik dan dihitung sebagai perbedaan antara persentil ke-75 dan ke-25. Ini diwakili oleh rumus IQR = Q3 - Q1. Baris kode di bawah menghitung dan mencetak kisaran interkuartil untuk setiap variabel dalam dataset.\n",
        "\n",
        "Teknik ini menggunakan skor IQR yang dihitung sebelumnya untuk menghilangkan pencilan. Aturan praktisnya adalah bahwa segala sesuatu yang tidak berada dalam kisaran (Q1 - 1.5 IQR) dan (Q3 + 1.5 IQR) adalah pencilan, dan dapat dihapus.\n",
        "\n",
        "Metode ini dipakai karena untuk identifikasi outlier awal digunakan metode boxplot."
      ]
    },
    {
      "cell_type": "code",
      "metadata": {
        "colab": {
          "base_uri": "https://localhost:8080/"
        },
        "id": "vvsR-1A9Nk1q",
        "outputId": "9cea8b8a-11c6-4db9-ac59-507dbaa95fe1"
      },
      "source": [
        "#Menghitung Skor IQR\n",
        "sorted(df)\n",
        "\n",
        "Q1=df.quantile(0.25)\n",
        "Q3=df.quantile(0.75)\n",
        "IQR=Q3-Q1\n",
        "print(IQR)"
      ],
      "execution_count": null,
      "outputs": [
        {
          "output_type": "stream",
          "name": "stdout",
          "text": [
            "bad            0.000000\n",
            "loan       12200.000000\n",
            "mortdue    40061.250000\n",
            "value      52515.250000\n",
            "yoj            9.000000\n",
            "derog          0.000000\n",
            "delinq         0.449442\n",
            "clage        109.771628\n",
            "ninq           2.000000\n",
            "clno          11.000000\n",
            "debtinc        7.186733\n",
            "dtype: float64\n"
          ]
        }
      ]
    },
    {
      "cell_type": "code",
      "metadata": {
        "colab": {
          "base_uri": "https://localhost:8080/",
          "height": 424
        },
        "id": "A40SqYjyNtDa",
        "outputId": "977c6fd2-03b0-48d8-d884-3bfebf1ad094"
      },
      "source": [
        "#Menghapus Outlier\n",
        "df_clear = df[~((df < (Q1 - 1.5 * IQR)) |(df > (Q3 + 1.5 * IQR))).any(axis=1)]\n",
        "df_clear"
      ],
      "execution_count": null,
      "outputs": [
        {
          "output_type": "execute_result",
          "data": {
            "text/html": [
              "<div>\n",
              "<style scoped>\n",
              "    .dataframe tbody tr th:only-of-type {\n",
              "        vertical-align: middle;\n",
              "    }\n",
              "\n",
              "    .dataframe tbody tr th {\n",
              "        vertical-align: top;\n",
              "    }\n",
              "\n",
              "    .dataframe thead th {\n",
              "        text-align: right;\n",
              "    }\n",
              "</style>\n",
              "<table border=\"1\" class=\"dataframe\">\n",
              "  <thead>\n",
              "    <tr style=\"text-align: right;\">\n",
              "      <th></th>\n",
              "      <th>bad</th>\n",
              "      <th>loan</th>\n",
              "      <th>mortdue</th>\n",
              "      <th>value</th>\n",
              "      <th>reason</th>\n",
              "      <th>job</th>\n",
              "      <th>yoj</th>\n",
              "      <th>derog</th>\n",
              "      <th>delinq</th>\n",
              "      <th>clage</th>\n",
              "      <th>ninq</th>\n",
              "      <th>clno</th>\n",
              "      <th>debtinc</th>\n",
              "    </tr>\n",
              "  </thead>\n",
              "  <tbody>\n",
              "    <tr>\n",
              "      <th>4</th>\n",
              "      <td>0</td>\n",
              "      <td>1700</td>\n",
              "      <td>97800.0</td>\n",
              "      <td>112000.0</td>\n",
              "      <td>HomeImp</td>\n",
              "      <td>Office</td>\n",
              "      <td>3.000000</td>\n",
              "      <td>0.0</td>\n",
              "      <td>0.0</td>\n",
              "      <td>93.333333</td>\n",
              "      <td>0.0</td>\n",
              "      <td>14.0</td>\n",
              "      <td>33.779915</td>\n",
              "    </tr>\n",
              "    <tr>\n",
              "      <th>13</th>\n",
              "      <td>0</td>\n",
              "      <td>2000</td>\n",
              "      <td>64536.0</td>\n",
              "      <td>87400.0</td>\n",
              "      <td>DebtCon</td>\n",
              "      <td>Mgr</td>\n",
              "      <td>2.500000</td>\n",
              "      <td>0.0</td>\n",
              "      <td>0.0</td>\n",
              "      <td>147.133333</td>\n",
              "      <td>0.0</td>\n",
              "      <td>24.0</td>\n",
              "      <td>33.779915</td>\n",
              "    </tr>\n",
              "    <tr>\n",
              "      <th>19</th>\n",
              "      <td>0</td>\n",
              "      <td>2300</td>\n",
              "      <td>102370.0</td>\n",
              "      <td>120953.0</td>\n",
              "      <td>HomeImp</td>\n",
              "      <td>Office</td>\n",
              "      <td>2.000000</td>\n",
              "      <td>0.0</td>\n",
              "      <td>0.0</td>\n",
              "      <td>90.992533</td>\n",
              "      <td>0.0</td>\n",
              "      <td>13.0</td>\n",
              "      <td>31.588503</td>\n",
              "    </tr>\n",
              "    <tr>\n",
              "      <th>26</th>\n",
              "      <td>0</td>\n",
              "      <td>2400</td>\n",
              "      <td>98449.0</td>\n",
              "      <td>117195.0</td>\n",
              "      <td>HomeImp</td>\n",
              "      <td>Office</td>\n",
              "      <td>4.000000</td>\n",
              "      <td>0.0</td>\n",
              "      <td>0.0</td>\n",
              "      <td>93.811775</td>\n",
              "      <td>0.0</td>\n",
              "      <td>13.0</td>\n",
              "      <td>29.681827</td>\n",
              "    </tr>\n",
              "    <tr>\n",
              "      <th>29</th>\n",
              "      <td>0</td>\n",
              "      <td>2500</td>\n",
              "      <td>7229.0</td>\n",
              "      <td>44516.0</td>\n",
              "      <td>HomeImp</td>\n",
              "      <td>Self</td>\n",
              "      <td>8.922268</td>\n",
              "      <td>0.0</td>\n",
              "      <td>0.0</td>\n",
              "      <td>208.000000</td>\n",
              "      <td>0.0</td>\n",
              "      <td>12.0</td>\n",
              "      <td>33.779915</td>\n",
              "    </tr>\n",
              "    <tr>\n",
              "      <th>...</th>\n",
              "      <td>...</td>\n",
              "      <td>...</td>\n",
              "      <td>...</td>\n",
              "      <td>...</td>\n",
              "      <td>...</td>\n",
              "      <td>...</td>\n",
              "      <td>...</td>\n",
              "      <td>...</td>\n",
              "      <td>...</td>\n",
              "      <td>...</td>\n",
              "      <td>...</td>\n",
              "      <td>...</td>\n",
              "      <td>...</td>\n",
              "    </tr>\n",
              "    <tr>\n",
              "      <th>5675</th>\n",
              "      <td>0</td>\n",
              "      <td>40500</td>\n",
              "      <td>66895.0</td>\n",
              "      <td>113770.0</td>\n",
              "      <td>DebtCon</td>\n",
              "      <td>Mgr</td>\n",
              "      <td>14.000000</td>\n",
              "      <td>0.0</td>\n",
              "      <td>0.0</td>\n",
              "      <td>188.140417</td>\n",
              "      <td>0.0</td>\n",
              "      <td>22.0</td>\n",
              "      <td>38.085328</td>\n",
              "    </tr>\n",
              "    <tr>\n",
              "      <th>5679</th>\n",
              "      <td>0</td>\n",
              "      <td>40600</td>\n",
              "      <td>14534.0</td>\n",
              "      <td>60000.0</td>\n",
              "      <td>DebtCon</td>\n",
              "      <td>Other</td>\n",
              "      <td>20.000000</td>\n",
              "      <td>0.0</td>\n",
              "      <td>0.0</td>\n",
              "      <td>206.966667</td>\n",
              "      <td>1.0</td>\n",
              "      <td>31.0</td>\n",
              "      <td>33.779915</td>\n",
              "    </tr>\n",
              "    <tr>\n",
              "      <th>5685</th>\n",
              "      <td>0</td>\n",
              "      <td>40900</td>\n",
              "      <td>18760.0</td>\n",
              "      <td>69373.0</td>\n",
              "      <td>DebtCon</td>\n",
              "      <td>Other</td>\n",
              "      <td>19.000000</td>\n",
              "      <td>0.0</td>\n",
              "      <td>0.0</td>\n",
              "      <td>211.698820</td>\n",
              "      <td>1.0</td>\n",
              "      <td>31.0</td>\n",
              "      <td>39.922587</td>\n",
              "    </tr>\n",
              "    <tr>\n",
              "      <th>5689</th>\n",
              "      <td>0</td>\n",
              "      <td>40900</td>\n",
              "      <td>64674.0</td>\n",
              "      <td>111877.0</td>\n",
              "      <td>DebtCon</td>\n",
              "      <td>Mgr</td>\n",
              "      <td>15.000000</td>\n",
              "      <td>0.0</td>\n",
              "      <td>0.0</td>\n",
              "      <td>201.736373</td>\n",
              "      <td>0.0</td>\n",
              "      <td>21.0</td>\n",
              "      <td>40.456010</td>\n",
              "    </tr>\n",
              "    <tr>\n",
              "      <th>5692</th>\n",
              "      <td>0</td>\n",
              "      <td>41100</td>\n",
              "      <td>59463.0</td>\n",
              "      <td>112626.0</td>\n",
              "      <td>DebtCon</td>\n",
              "      <td>Mgr</td>\n",
              "      <td>16.000000</td>\n",
              "      <td>0.0</td>\n",
              "      <td>0.0</td>\n",
              "      <td>210.203969</td>\n",
              "      <td>0.0</td>\n",
              "      <td>22.0</td>\n",
              "      <td>40.439556</td>\n",
              "    </tr>\n",
              "  </tbody>\n",
              "</table>\n",
              "<p>2817 rows × 13 columns</p>\n",
              "</div>"
            ],
            "text/plain": [
              "      bad   loan   mortdue     value  ...       clage ninq  clno    debtinc\n",
              "4       0   1700   97800.0  112000.0  ...   93.333333  0.0  14.0  33.779915\n",
              "13      0   2000   64536.0   87400.0  ...  147.133333  0.0  24.0  33.779915\n",
              "19      0   2300  102370.0  120953.0  ...   90.992533  0.0  13.0  31.588503\n",
              "26      0   2400   98449.0  117195.0  ...   93.811775  0.0  13.0  29.681827\n",
              "29      0   2500    7229.0   44516.0  ...  208.000000  0.0  12.0  33.779915\n",
              "...   ...    ...       ...       ...  ...         ...  ...   ...        ...\n",
              "5675    0  40500   66895.0  113770.0  ...  188.140417  0.0  22.0  38.085328\n",
              "5679    0  40600   14534.0   60000.0  ...  206.966667  1.0  31.0  33.779915\n",
              "5685    0  40900   18760.0   69373.0  ...  211.698820  1.0  31.0  39.922587\n",
              "5689    0  40900   64674.0  111877.0  ...  201.736373  0.0  21.0  40.456010\n",
              "5692    0  41100   59463.0  112626.0  ...  210.203969  0.0  22.0  40.439556\n",
              "\n",
              "[2817 rows x 13 columns]"
            ]
          },
          "metadata": {},
          "execution_count": 271
        }
      ]
    },
    {
      "cell_type": "code",
      "metadata": {
        "colab": {
          "base_uri": "https://localhost:8080/",
          "height": 428
        },
        "id": "Te3nZX10NwA1",
        "outputId": "4c9bead0-9df7-4319-c1ca-1d51920b8fd8"
      },
      "source": [
        "#Melihat Outlier\n",
        "df_clear.boxplot(figsize=(10,7));"
      ],
      "execution_count": null,
      "outputs": [
        {
          "output_type": "display_data",
          "data": {
            "image/png": "[encoded data removed]",
            "text/plain": [
              "<Figure size 720x504 with 1 Axes>"
            ]
          },
          "metadata": {
            "needs_background": "light"
          }
        }
      ]
    },
    {
      "cell_type": "markdown",
      "metadata": {
        "id": "dZ-aFWuSAiaI"
      },
      "source": [
        "Outlier berhasil dihapus"
      ]
    },
    {
      "cell_type": "markdown",
      "metadata": {
        "id": "U5c8jhoN-gPj"
      },
      "source": [
        "## **D. Lakukan plot histogram distribusi pada setiap fitur pada data Anda. Jika terindikasi bukan  berdistribusi normal. Lakukan normalisasi pada fitur tersebut!**"
      ]
    },
    {
      "cell_type": "code",
      "metadata": {
        "id": "dO4CHKXODLFA",
        "colab": {
          "base_uri": "https://localhost:8080/",
          "height": 281
        },
        "outputId": "6d62f542-ae61-470d-f623-04f2a6ea92e1"
      },
      "source": [
        "df[[\"bad\"]].hist();"
      ],
      "execution_count": null,
      "outputs": [
        {
          "output_type": "display_data",
          "data": {
            "image/png": "[encoded data removed]",
            "text/plain": [
              "<Figure size 432x288 with 1 Axes>"
            ]
          },
          "metadata": {
            "needs_background": "light"
          }
        }
      ]
    },
    {
      "cell_type": "code",
      "metadata": {
        "colab": {
          "base_uri": "https://localhost:8080/",
          "height": 281
        },
        "id": "ryyAKfrybTrq",
        "outputId": "982984d7-6836-4649-db00-8e6e6e6e80e1"
      },
      "source": [
        "df[[\"loan\"]].hist();"
      ],
      "execution_count": null,
      "outputs": [
        {
          "output_type": "display_data",
          "data": {
            "image/png": "[encoded data removed]",
            "text/plain": [
              "<Figure size 432x288 with 1 Axes>"
            ]
          },
          "metadata": {
            "needs_background": "light"
          }
        }
      ]
    },
    {
      "cell_type": "code",
      "metadata": {
        "colab": {
          "base_uri": "https://localhost:8080/",
          "height": 281
        },
        "id": "_KB3HI5zbgLp",
        "outputId": "ed069f24-c7de-4cd9-80e2-5c9f2e0b4427"
      },
      "source": [
        "df[[\"mortdue\"]].hist();"
      ],
      "execution_count": null,
      "outputs": [
        {
          "output_type": "display_data",
          "data": {
            "image/png": "[encoded data removed]",
            "text/plain": [
              "<Figure size 432x288 with 1 Axes>"
            ]
          },
          "metadata": {
            "needs_background": "light"
          }
        }
      ]
    },
    {
      "cell_type": "code",
      "metadata": {
        "colab": {
          "base_uri": "https://localhost:8080/",
          "height": 281
        },
        "id": "os0CIkosblqm",
        "outputId": "8863d453-dcc6-47f4-840a-36a57d3f8ce3"
      },
      "source": [
        "df[[\"value\"]].hist();"
      ],
      "execution_count": null,
      "outputs": [
        {
          "output_type": "display_data",
          "data": {
            "image/png": "[encoded data removed]",
            "text/plain": [
              "<Figure size 432x288 with 1 Axes>"
            ]
          },
          "metadata": {
            "needs_background": "light"
          }
        }
      ]
    },
    {
      "cell_type": "code",
      "metadata": {
        "colab": {
          "base_uri": "https://localhost:8080/",
          "height": 281
        },
        "id": "seSgrKTywb2b",
        "outputId": "35bfd0c0-dce0-47e0-dd3a-33264d84941f"
      },
      "source": [
        "df[[\"yoj\"]].hist();"
      ],
      "execution_count": null,
      "outputs": [
        {
          "output_type": "display_data",
          "data": {
            "image/png": "[encoded data removed]",
            "text/plain": [
              "<Figure size 432x288 with 1 Axes>"
            ]
          },
          "metadata": {
            "needs_background": "light"
          }
        }
      ]
    },
    {
      "cell_type": "code",
      "metadata": {
        "colab": {
          "base_uri": "https://localhost:8080/",
          "height": 281
        },
        "id": "42H5YRhSwhe2",
        "outputId": "2274b0d9-6177-4345-c966-d159d65be910"
      },
      "source": [
        "df[[\"derog\"]].hist();"
      ],
      "execution_count": null,
      "outputs": [
        {
          "output_type": "display_data",
          "data": {
            "image/png": "[encoded data removed]",
            "text/plain": [
              "<Figure size 432x288 with 1 Axes>"
            ]
          },
          "metadata": {
            "needs_background": "light"
          }
        }
      ]
    },
    {
      "cell_type": "code",
      "metadata": {
        "colab": {
          "base_uri": "https://localhost:8080/",
          "height": 281
        },
        "id": "YRSZbMcywmfC",
        "outputId": "75ad1729-c88b-4e40-8154-3c2dd2e3d4fc"
      },
      "source": [
        "df[[\"delinq\"]].hist();"
      ],
      "execution_count": null,
      "outputs": [
        {
          "output_type": "display_data",
          "data": {
            "image/png": "[encoded data removed]",
            "text/plain": [
              "<Figure size 432x288 with 1 Axes>"
            ]
          },
          "metadata": {
            "needs_background": "light"
          }
        }
      ]
    },
    {
      "cell_type": "code",
      "metadata": {
        "colab": {
          "base_uri": "https://localhost:8080/",
          "height": 281
        },
        "id": "CYuXfxAuwsa1",
        "outputId": "377283fa-d65c-41e2-b836-5e50935e4ad7"
      },
      "source": [
        "df[[\"clage\"]].hist();"
      ],
      "execution_count": null,
      "outputs": [
        {
          "output_type": "display_data",
          "data": {
            "image/png": "[encoded data removed]",
            "text/plain": [
              "<Figure size 432x288 with 1 Axes>"
            ]
          },
          "metadata": {
            "needs_background": "light"
          }
        }
      ]
    },
    {
      "cell_type": "code",
      "metadata": {
        "colab": {
          "base_uri": "https://localhost:8080/",
          "height": 281
        },
        "id": "fkomvWbowwlU",
        "outputId": "c259cc39-6ffc-4079-8a87-1dec5014def3"
      },
      "source": [
        "df[[\"ninq\"]].hist();"
      ],
      "execution_count": null,
      "outputs": [
        {
          "output_type": "display_data",
          "data": {
            "image/png": "[encoded data removed]",
            "text/plain": [
              "<Figure size 432x288 with 1 Axes>"
            ]
          },
          "metadata": {
            "needs_background": "light"
          }
        }
      ]
    },
    {
      "cell_type": "code",
      "metadata": {
        "colab": {
          "base_uri": "https://localhost:8080/",
          "height": 281
        },
        "id": "X9faZOF5wzwQ",
        "outputId": "4e2a3420-8175-4923-b451-80e7d927105b"
      },
      "source": [
        "df[[\"clno\"]].hist();"
      ],
      "execution_count": null,
      "outputs": [
        {
          "output_type": "display_data",
          "data": {
            "image/png": "[encoded data removed]",
            "text/plain": [
              "<Figure size 432x288 with 1 Axes>"
            ]
          },
          "metadata": {
            "needs_background": "light"
          }
        }
      ]
    },
    {
      "cell_type": "code",
      "metadata": {
        "colab": {
          "base_uri": "https://localhost:8080/",
          "height": 281
        },
        "id": "LDTXbDdJw3bc",
        "outputId": "2b8bf852-ad65-46a6-99c3-b7755037cecb"
      },
      "source": [
        "df[[\"debtinc\"]].hist();"
      ],
      "execution_count": null,
      "outputs": [
        {
          "output_type": "display_data",
          "data": {
            "image/png": "[encoded data removed]",
            "text/plain": [
              "<Figure size 432x288 with 1 Axes>"
            ]
          },
          "metadata": {
            "needs_background": "light"
          }
        }
      ]
    },
    {
      "cell_type": "code",
      "metadata": {
        "id": "QKWLpOrobazq"
      },
      "source": [
        "del df_clear['reason']"
      ],
      "execution_count": null,
      "outputs": []
    },
    {
      "cell_type": "code",
      "metadata": {
        "id": "2cXRH3u2Z-48"
      },
      "source": [
        "del df_clear['job']"
      ],
      "execution_count": null,
      "outputs": []
    },
    {
      "cell_type": "code",
      "metadata": {
        "colab": {
          "base_uri": "https://localhost:8080/",
          "height": 424
        },
        "id": "IzBh4UXmZuUG",
        "outputId": "1cb5219a-add0-47ca-b588-0c665398de04"
      },
      "source": [
        "#Normalisasi data dengan MinMaxScaler\n",
        "from sklearn.preprocessing import MinMaxScaler\n",
        "\n",
        "scaler = MinMaxScaler()\n",
        "df_norm = pd.DataFrame(scaler.fit_transform(df_clear), columns=df_clear.columns)\n",
        "\n",
        "df_norm"
      ],
      "execution_count": null,
      "outputs": [
        {
          "output_type": "execute_result",
          "data": {
            "text/html": [
              "<div>\n",
              "<style scoped>\n",
              "    .dataframe tbody tr th:only-of-type {\n",
              "        vertical-align: middle;\n",
              "    }\n",
              "\n",
              "    .dataframe tbody tr th {\n",
              "        vertical-align: top;\n",
              "    }\n",
              "\n",
              "    .dataframe thead th {\n",
              "        text-align: right;\n",
              "    }\n",
              "</style>\n",
              "<table border=\"1\" class=\"dataframe\">\n",
              "  <thead>\n",
              "    <tr style=\"text-align: right;\">\n",
              "      <th></th>\n",
              "      <th>bad</th>\n",
              "      <th>loan</th>\n",
              "      <th>mortdue</th>\n",
              "      <th>value</th>\n",
              "      <th>yoj</th>\n",
              "      <th>derog</th>\n",
              "      <th>delinq</th>\n",
              "      <th>clage</th>\n",
              "      <th>ninq</th>\n",
              "      <th>clno</th>\n",
              "      <th>debtinc</th>\n",
              "    </tr>\n",
              "  </thead>\n",
              "  <tbody>\n",
              "    <tr>\n",
              "      <th>0</th>\n",
              "      <td>0.0</td>\n",
              "      <td>0.000000</td>\n",
              "      <td>0.656072</td>\n",
              "      <td>0.515755</td>\n",
              "      <td>0.120000</td>\n",
              "      <td>0.0</td>\n",
              "      <td>0.0</td>\n",
              "      <td>0.201865</td>\n",
              "      <td>0.0</td>\n",
              "      <td>0.333333</td>\n",
              "      <td>0.537837</td>\n",
              "    </tr>\n",
              "    <tr>\n",
              "      <th>1</th>\n",
              "      <td>0.0</td>\n",
              "      <td>0.007614</td>\n",
              "      <td>0.426787</td>\n",
              "      <td>0.376789</td>\n",
              "      <td>0.100000</td>\n",
              "      <td>0.0</td>\n",
              "      <td>0.0</td>\n",
              "      <td>0.351509</td>\n",
              "      <td>0.0</td>\n",
              "      <td>0.571429</td>\n",
              "      <td>0.537837</td>\n",
              "    </tr>\n",
              "    <tr>\n",
              "      <th>2</th>\n",
              "      <td>0.0</td>\n",
              "      <td>0.015228</td>\n",
              "      <td>0.687573</td>\n",
              "      <td>0.566331</td>\n",
              "      <td>0.080000</td>\n",
              "      <td>0.0</td>\n",
              "      <td>0.0</td>\n",
              "      <td>0.195354</td>\n",
              "      <td>0.0</td>\n",
              "      <td>0.309524</td>\n",
              "      <td>0.451934</td>\n",
              "    </tr>\n",
              "    <tr>\n",
              "      <th>3</th>\n",
              "      <td>0.0</td>\n",
              "      <td>0.017766</td>\n",
              "      <td>0.660546</td>\n",
              "      <td>0.545102</td>\n",
              "      <td>0.160000</td>\n",
              "      <td>0.0</td>\n",
              "      <td>0.0</td>\n",
              "      <td>0.203195</td>\n",
              "      <td>0.0</td>\n",
              "      <td>0.309524</td>\n",
              "      <td>0.377193</td>\n",
              "    </tr>\n",
              "    <tr>\n",
              "      <th>4</th>\n",
              "      <td>0.0</td>\n",
              "      <td>0.020305</td>\n",
              "      <td>0.031776</td>\n",
              "      <td>0.134537</td>\n",
              "      <td>0.356891</td>\n",
              "      <td>0.0</td>\n",
              "      <td>0.0</td>\n",
              "      <td>0.520809</td>\n",
              "      <td>0.0</td>\n",
              "      <td>0.285714</td>\n",
              "      <td>0.537837</td>\n",
              "    </tr>\n",
              "    <tr>\n",
              "      <th>...</th>\n",
              "      <td>...</td>\n",
              "      <td>...</td>\n",
              "      <td>...</td>\n",
              "      <td>...</td>\n",
              "      <td>...</td>\n",
              "      <td>...</td>\n",
              "      <td>...</td>\n",
              "      <td>...</td>\n",
              "      <td>...</td>\n",
              "      <td>...</td>\n",
              "      <td>...</td>\n",
              "    </tr>\n",
              "    <tr>\n",
              "      <th>2812</th>\n",
              "      <td>0.0</td>\n",
              "      <td>0.984772</td>\n",
              "      <td>0.443047</td>\n",
              "      <td>0.525754</td>\n",
              "      <td>0.560000</td>\n",
              "      <td>0.0</td>\n",
              "      <td>0.0</td>\n",
              "      <td>0.465570</td>\n",
              "      <td>0.0</td>\n",
              "      <td>0.523810</td>\n",
              "      <td>0.706608</td>\n",
              "    </tr>\n",
              "    <tr>\n",
              "      <th>2813</th>\n",
              "      <td>0.0</td>\n",
              "      <td>0.987310</td>\n",
              "      <td>0.082129</td>\n",
              "      <td>0.222006</td>\n",
              "      <td>0.800000</td>\n",
              "      <td>0.0</td>\n",
              "      <td>0.0</td>\n",
              "      <td>0.517935</td>\n",
              "      <td>0.2</td>\n",
              "      <td>0.738095</td>\n",
              "      <td>0.537837</td>\n",
              "    </tr>\n",
              "    <tr>\n",
              "      <th>2814</th>\n",
              "      <td>0.0</td>\n",
              "      <td>0.994924</td>\n",
              "      <td>0.111258</td>\n",
              "      <td>0.274955</td>\n",
              "      <td>0.760000</td>\n",
              "      <td>0.0</td>\n",
              "      <td>0.0</td>\n",
              "      <td>0.531098</td>\n",
              "      <td>0.2</td>\n",
              "      <td>0.738095</td>\n",
              "      <td>0.778629</td>\n",
              "    </tr>\n",
              "    <tr>\n",
              "      <th>2815</th>\n",
              "      <td>0.0</td>\n",
              "      <td>0.994924</td>\n",
              "      <td>0.427738</td>\n",
              "      <td>0.515060</td>\n",
              "      <td>0.600000</td>\n",
              "      <td>0.0</td>\n",
              "      <td>0.0</td>\n",
              "      <td>0.503387</td>\n",
              "      <td>0.0</td>\n",
              "      <td>0.500000</td>\n",
              "      <td>0.799539</td>\n",
              "    </tr>\n",
              "    <tr>\n",
              "      <th>2816</th>\n",
              "      <td>0.0</td>\n",
              "      <td>1.000000</td>\n",
              "      <td>0.391820</td>\n",
              "      <td>0.519291</td>\n",
              "      <td>0.640000</td>\n",
              "      <td>0.0</td>\n",
              "      <td>0.0</td>\n",
              "      <td>0.526940</td>\n",
              "      <td>0.0</td>\n",
              "      <td>0.523810</td>\n",
              "      <td>0.798894</td>\n",
              "    </tr>\n",
              "  </tbody>\n",
              "</table>\n",
              "<p>2817 rows × 11 columns</p>\n",
              "</div>"
            ],
            "text/plain": [
              "      bad      loan   mortdue     value  ...     clage  ninq      clno   debtinc\n",
              "0     0.0  0.000000  0.656072  0.515755  ...  0.201865   0.0  0.333333  0.537837\n",
              "1     0.0  0.007614  0.426787  0.376789  ...  0.351509   0.0  0.571429  0.537837\n",
              "2     0.0  0.015228  0.687573  0.566331  ...  0.195354   0.0  0.309524  0.451934\n",
              "3     0.0  0.017766  0.660546  0.545102  ...  0.203195   0.0  0.309524  0.377193\n",
              "4     0.0  0.020305  0.031776  0.134537  ...  0.520809   0.0  0.285714  0.537837\n",
              "...   ...       ...       ...       ...  ...       ...   ...       ...       ...\n",
              "2812  0.0  0.984772  0.443047  0.525754  ...  0.465570   0.0  0.523810  0.706608\n",
              "2813  0.0  0.987310  0.082129  0.222006  ...  0.517935   0.2  0.738095  0.537837\n",
              "2814  0.0  0.994924  0.111258  0.274955  ...  0.531098   0.2  0.738095  0.778629\n",
              "2815  0.0  0.994924  0.427738  0.515060  ...  0.503387   0.0  0.500000  0.799539\n",
              "2816  0.0  1.000000  0.391820  0.519291  ...  0.526940   0.0  0.523810  0.798894\n",
              "\n",
              "[2817 rows x 11 columns]"
            ]
          },
          "metadata": {},
          "execution_count": 276
        }
      ]
    },
    {
      "cell_type": "markdown",
      "metadata": {
        "id": "7zoIT8_0CluF"
      },
      "source": [
        "## **E. Jika data anda belum dibagi menjadi data training & testing, lakukan pembagian data training dan testing dengan perbandingan 80:20!**"
      ]
    },
    {
      "cell_type": "code",
      "metadata": {
        "colab": {
          "base_uri": "https://localhost:8080/"
        },
        "id": "CFNSGwykC58y",
        "outputId": "12800e35-d105-4f96-9623-15a1c675153a"
      },
      "source": [
        "# Membagi menjadi training set dan test set\n",
        "\n",
        "from sklearn.model_selection import train_test_split\n",
        "X = df.iloc[:, :-1]\n",
        "y = df['debtinc']\n",
        "X_train, X_test, y_train, y_test = train_test_split(X, y, test_size=0.2)\n",
        "X_train, X_test, y_train, y_test"
      ],
      "execution_count": null,
      "outputs": [
        {
          "output_type": "execute_result",
          "data": {
            "text/plain": [
              "(      bad   loan   mortdue     value  ... delinq       clage  ninq  clno\n",
              " 5310    0  29700  100657.0  148653.0  ...    0.0  221.925311   0.0  40.0\n",
              " 2028    0  13000   39386.0   53149.0  ...    0.0  110.477957   1.0  16.0\n",
              " 3324    0  17700  111612.0  128416.0  ...    0.0  169.733488   0.0  17.0\n",
              " 2246    0  13800   73688.0   94071.0  ...    0.0  221.223143   2.0  28.0\n",
              " 4711    1  24900   62191.0   83694.0  ...    0.0   55.937512   0.0  14.0\n",
              " ...   ...    ...       ...       ...  ...    ...         ...   ...   ...\n",
              " 965     0   9300   30204.0   57036.0  ...    0.0  235.492813   0.0  19.0\n",
              " 5366    0  30600   78355.0  124426.0  ...    0.0   81.223398   1.0  34.0\n",
              " 4087    0  21400   96016.0  135783.0  ...    0.0  169.016138   2.0  25.0\n",
              " 4679    0  24600  135278.0  164559.0  ...    0.0  225.366848   0.0  20.0\n",
              " 4104    0  21400  128095.0  167824.0  ...    0.0  180.417354   0.0  38.0\n",
              " \n",
              " [4768 rows x 12 columns],\n",
              "       bad   loan   mortdue     value  ...    delinq       clage      ninq  clno\n",
              " 1963    1  12800   81030.0  100333.0  ...  1.000000   80.148943  4.000000  29.0\n",
              " 1982    0  12800   68729.0   90127.0  ...  0.000000  163.989279  1.000000  14.0\n",
              " 3512    0  18500   67290.0   95750.0  ...  1.000000  237.100000  2.000000  14.0\n",
              " 4989    0  26400   44333.0   68945.0  ...  0.000000  173.495392  2.000000  21.0\n",
              " 4530    0  23600  126254.0  169638.0  ...  0.000000  176.749163  0.000000  38.0\n",
              " ...   ...    ...       ...       ...  ...       ...         ...       ...   ...\n",
              " 2650    0  15200   44414.0   60098.0  ...  0.000000  105.749642  2.000000   9.0\n",
              " 3745    0  19900   64620.0   91504.0  ...  0.449442  178.574866  1.186055  16.0\n",
              " 3674    0  19300   33970.0  102792.0  ...  0.000000  145.020245  0.000000  14.0\n",
              " 844     0   8700   53073.0   83415.0  ...  0.000000  211.268780  3.000000  29.0\n",
              " 3847    0  20100   72775.0  102308.0  ...  0.000000  206.478845  2.000000  13.0\n",
              " \n",
              " [1192 rows x 12 columns],\n",
              " 5310    42.302907\n",
              " 2028    38.521759\n",
              " 3324    39.770628\n",
              " 2246    41.482143\n",
              " 4711    62.110722\n",
              "           ...    \n",
              " 965     23.137841\n",
              " 5366    25.942578\n",
              " 4087    35.612025\n",
              " 4679    34.079158\n",
              " 4104    17.495700\n",
              " Name: debtinc, Length: 4768, dtype: float64,\n",
              " 1963    42.319370\n",
              " 1982    39.424488\n",
              " 3512    33.779915\n",
              " 4989    32.349412\n",
              " 4530    17.620920\n",
              "           ...    \n",
              " 2650    27.375269\n",
              " 3745    37.725801\n",
              " 3674    31.874217\n",
              " 844     30.201509\n",
              " 3847    32.782971\n",
              " Name: debtinc, Length: 1192, dtype: float64)"
            ]
          },
          "metadata": {},
          "execution_count": 146
        }
      ]
    },
    {
      "cell_type": "markdown",
      "metadata": {
        "id": "aQGh1MbStMi1"
      },
      "source": [
        "**Data Training & Testing diperoleh:**\n",
        "\n",
        "- X_train = 4768 rows x 12 columns\n",
        "- X_test = 1192 rows x 12 columns\n",
        "- y_train = Name: debtinc, Length: 4768, dtype: float64\n",
        "- y_test = Name: debtinc, Length: 1192, dtype: float64 "
      ]
    }
  ]
}